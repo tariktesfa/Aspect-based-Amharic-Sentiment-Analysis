{
 "cells": [
  {
   "cell_type": "markdown",
   "id": "c396107f",
   "metadata": {},
   "source": [
    "### Data Exploration"
   ]
  },
  {
   "cell_type": "code",
   "execution_count": 1,
   "id": "ec3c7f86",
   "metadata": {},
   "outputs": [],
   "source": [
    "#importing libraries\n",
    "\n",
    "import nltk\n",
    "import matplotlib.font_manager\n",
    "import matplotlib.pyplot as plt\n",
    "import os\n",
    "import re\n",
    "import matplotlib.cm as cm\n",
    "import pandas as pd\n",
    "\n",
    "# make sure that graphs are embedded into our notebook output\n",
    "%matplotlib inline"
   ]
  },
  {
   "cell_type": "code",
   "execution_count": 46,
   "id": "ca338e09",
   "metadata": {},
   "outputs": [],
   "source": [
    "# openning the files\n",
    "data = pd.read_csv('comment.csv')"
   ]
  },
  {
   "cell_type": "code",
   "execution_count": 47,
   "id": "55cbc908",
   "metadata": {},
   "outputs": [
    {
     "data": {
      "text/html": [
       "<div>\n",
       "<style scoped>\n",
       "    .dataframe tbody tr th:only-of-type {\n",
       "        vertical-align: middle;\n",
       "    }\n",
       "\n",
       "    .dataframe tbody tr th {\n",
       "        vertical-align: top;\n",
       "    }\n",
       "\n",
       "    .dataframe thead th {\n",
       "        text-align: right;\n",
       "    }\n",
       "</style>\n",
       "<table border=\"1\" class=\"dataframe\">\n",
       "  <thead>\n",
       "    <tr style=\"text-align: right;\">\n",
       "      <th></th>\n",
       "      <th>Comments</th>\n",
       "      <th>Sentiment</th>\n",
       "      <th>Aspect</th>\n",
       "    </tr>\n",
       "  </thead>\n",
       "  <tbody>\n",
       "    <tr>\n",
       "      <th>0</th>\n",
       "      <td>ለሶሻል ሚዲያ ተጠቃሚው ቁጥር መጨመር የእናተ አሰተዋፅኦ በተለይ የጥቅል ...</td>\n",
       "      <td>Positive</td>\n",
       "      <td>Price</td>\n",
       "    </tr>\n",
       "    <tr>\n",
       "      <th>1</th>\n",
       "      <td>ጥሩ  በርቱ አሁንም ግን ከሌሎች ሀገር ጋር ሲነፃፀር ዋጋው ወደድ ይላል ...</td>\n",
       "      <td>Positive</td>\n",
       "      <td>Price</td>\n",
       "    </tr>\n",
       "    <tr>\n",
       "      <th>2</th>\n",
       "      <td>በጣም የሚደነቅ</td>\n",
       "      <td>Positive</td>\n",
       "      <td>Service</td>\n",
       "    </tr>\n",
       "    <tr>\n",
       "      <th>3</th>\n",
       "      <td>ኢቴዎች እባካችሁ አሁን የምጠቀምበት ሲም በየገዛሁት</td>\n",
       "      <td>Neutral</td>\n",
       "      <td>Service</td>\n",
       "    </tr>\n",
       "    <tr>\n",
       "      <th>4</th>\n",
       "      <td>እባክዎን ስርዓትዎን በድጋሚ  ላይ ማስጀመር አሁን አይሰራም እባክዎ ይመልከቱ</td>\n",
       "      <td>Neutral</td>\n",
       "      <td>Service</td>\n",
       "    </tr>\n",
       "  </tbody>\n",
       "</table>\n",
       "</div>"
      ],
      "text/plain": [
       "                                            Comments Sentiment   Aspect\n",
       "0  ለሶሻል ሚዲያ ተጠቃሚው ቁጥር መጨመር የእናተ አሰተዋፅኦ በተለይ የጥቅል ...  Positive    Price\n",
       "1  ጥሩ  በርቱ አሁንም ግን ከሌሎች ሀገር ጋር ሲነፃፀር ዋጋው ወደድ ይላል ...  Positive    Price\n",
       "2                                          በጣም የሚደነቅ  Positive  Service\n",
       "3                  ኢቴዎች እባካችሁ አሁን የምጠቀምበት ሲም በየገዛሁት    Neutral  Service\n",
       "4   እባክዎን ስርዓትዎን በድጋሚ  ላይ ማስጀመር አሁን አይሰራም እባክዎ ይመልከቱ   Neutral  Service"
      ]
     },
     "execution_count": 47,
     "metadata": {},
     "output_type": "execute_result"
    }
   ],
   "source": [
    "data.head()"
   ]
  },
  {
   "cell_type": "code",
   "execution_count": 31,
   "id": "2b6f5728",
   "metadata": {},
   "outputs": [
    {
     "data": {
      "text/plain": [
       "(1483, 3)"
      ]
     },
     "execution_count": 31,
     "metadata": {},
     "output_type": "execute_result"
    }
   ],
   "source": [
    "data.shape"
   ]
  },
  {
   "cell_type": "code",
   "execution_count": 48,
   "id": "5b87e318",
   "metadata": {},
   "outputs": [
    {
     "data": {
      "text/plain": [
       "Negative    526\n",
       "Positive    487\n",
       "Neutral     459\n",
       "Name: Sentiment, dtype: int64"
      ]
     },
     "execution_count": 48,
     "metadata": {},
     "output_type": "execute_result"
    }
   ],
   "source": [
    "data['Sentiment'].value_counts()"
   ]
  },
  {
   "cell_type": "code",
   "execution_count": 49,
   "id": "126c20e4",
   "metadata": {},
   "outputs": [
    {
     "data": {
      "text/plain": [
       "Service           976\n",
       "Price             228\n",
       "Quality           172\n",
       "Accessability      96\n",
       "Name: Aspect, dtype: int64"
      ]
     },
     "execution_count": 49,
     "metadata": {},
     "output_type": "execute_result"
    }
   ],
   "source": [
    "data['Aspect'].value_counts()"
   ]
  },
  {
   "cell_type": "code",
   "execution_count": 36,
   "id": "f0ed4e48",
   "metadata": {},
   "outputs": [
    {
     "data": {
      "image/png": "[encoded data removed]",
      "text/plain": [
       "<Figure size 432x288 with 1 Axes>"
      ]
     },
     "metadata": {
      "needs_background": "light"
     },
     "output_type": "display_data"
    }
   ],
   "source": [
    "import seaborn as sns\n",
    "sns.countplot(x='Sentiment',data=data,palette='hls')\n",
    "plt.show()"
   ]
  },
  {
   "cell_type": "code",
   "execution_count": 51,
   "id": "838adea7",
   "metadata": {},
   "outputs": [
    {
     "data": {
      "image/png": "[encoded data removed]",
      "text/plain": [
       "<Figure size 648x648 with 1 Axes>"
      ]
     },
     "metadata": {
      "needs_background": "light"
     },
     "output_type": "display_data"
    }
   ],
   "source": [
    "fig, axes = plt.subplots(1,1, figsize=(9,9))\n",
    "axes.set_title('Plot')\n",
    "sns.countplot(x = 'Aspect', hue='Sentiment', data = data, ax=axes)\n",
    "plt.tight_layout()"
   ]
  },
  {
   "cell_type": "code",
   "execution_count": 52,
   "id": "fcbfdfa1",
   "metadata": {},
   "outputs": [
    {
     "data": {
      "image/png": "[encoded data removed]",
      "text/plain": [
       "<Figure size 648x648 with 1 Axes>"
      ]
     },
     "metadata": {
      "needs_background": "light"
     },
     "output_type": "display_data"
    }
   ],
   "source": [
    "fig, axes = plt.subplots(1,1, figsize=(9,9))\n",
    "axes.set_title('Plot')\n",
    "sns.countplot(x = 'Sentiment', hue='Aspect', data = data, ax=axes)\n",
    "plt.tight_layout()"
   ]
  },
  {
   "cell_type": "code",
   "execution_count": null,
   "id": "fda1f75e",
   "metadata": {},
   "outputs": [],
   "source": []
  }
 ],
 "metadata": {
  "kernelspec": {
   "display_name": "Python 3 (ipykernel)",
   "language": "python",
   "name": "python3"
  },
  "language_info": {
   "codemirror_mode": {
    "name": "ipython",
    "version": 3
   },
   "file_extension": ".py",
   "mimetype": "text/x-python",
   "name": "python",
   "nbconvert_exporter": "python",
   "pygments_lexer": "ipython3",
   "version": "3.9.7"
  }
 },
 "nbformat": 4,
 "nbformat_minor": 5
}
